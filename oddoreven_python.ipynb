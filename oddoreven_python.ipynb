{
  "nbformat": 4,
  "nbformat_minor": 0,
  "metadata": {
    "colab": {
      "provenance": [],
      "authorship_tag": "ABX9TyNoXFWmRW3J5b4JtCfxiKAj",
      "include_colab_link": true
    },
    "kernelspec": {
      "name": "python3",
      "display_name": "Python 3"
    },
    "language_info": {
      "name": "python"
    }
  },
  "cells": [
    {
      "cell_type": "markdown",
      "metadata": {
        "id": "view-in-github",
        "colab_type": "text"
      },
      "source": [
        "<a href=\"https://colab.research.google.com/github/VitorGomesder4/python-studies/blob/main/oddoreven_python.ipynb\" target=\"_parent\"><img src=\"https://colab.research.google.com/assets/colab-badge.svg\" alt=\"Open In Colab\"/></a>"
      ]
    },
    {
      "cell_type": "code",
      "execution_count": 1,
      "metadata": {
        "colab": {
          "base_uri": "https://localhost:8080/"
        },
        "id": "UG2KDzlaRqd9",
        "outputId": "4b392f89-919b-47e2-ea26-16f57ac563aa"
      },
      "outputs": [
        {
          "output_type": "stream",
          "name": "stdout",
          "text": [
            "numero  1\n",
            "IMPAR\n"
          ]
        }
      ],
      "source": [
        "num = int(input(\"numero  \"))\n",
        "if int(num)% 2 == 0:\n",
        "  print(\"PAR\")\n",
        "else:\n",
        "  print(\"IMPAR\")"
      ]
    }
  ]
}