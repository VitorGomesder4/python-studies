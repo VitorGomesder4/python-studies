{
  "nbformat": 4,
  "nbformat_minor": 0,
  "metadata": {
    "colab": {
      "provenance": [],
      "authorship_tag": "ABX9TyPEG2jQ7+6u+eAP3flloje9",
      "include_colab_link": true
    },
    "kernelspec": {
      "name": "python3",
      "display_name": "Python 3"
    },
    "language_info": {
      "name": "python"
    }
  },
  "cells": [
    {
      "cell_type": "markdown",
      "metadata": {
        "id": "view-in-github",
        "colab_type": "text"
      },
      "source": [
        "<a href=\"https://colab.research.google.com/github/VitorGomesder4/python-studies/blob/main/desafio2_2.ipynb\" target=\"_parent\"><img src=\"https://colab.research.google.com/assets/colab-badge.svg\" alt=\"Open In Colab\"/></a>"
      ]
    },
    {
      "cell_type": "code",
      "execution_count": null,
      "metadata": {
        "colab": {
          "base_uri": "https://localhost:8080/"
        },
        "id": "sQQd1wMHGvyK",
        "outputId": "d5cd7846-68e0-48ea-c411-3c2b04ce4b5a"
      },
      "outputs": [
        {
          "output_type": "stream",
          "name": "stdout",
          "text": [
            "Digite sua nota: 20\n",
            "Digite sua nota: 20\n",
            "Digite sua nota: 10\n",
            "Digite sua nota: 10\n",
            "Digite sua nota: 5\n",
            "Digite sua nota: 2\n",
            "Digite sua nota: 6\n",
            "Digite sua nota: 8\n",
            "Digite sua nota: 3\n",
            "Digite sua nota: 10\n",
            "Digite sua nota: 73\n",
            "Digite sua nota: 81\n",
            "Digite sua nota: 36\n",
            "Digite sua nota: 62\n",
            "Digite sua nota: 41\n",
            "Digite sua nota: 23\n",
            "Digite sua nota: 94\n",
            "Digite sua nota: 2\n",
            "Digite sua nota: 8\n",
            "Digite sua nota: 28\n",
            "Digite sua nota: 95\n",
            "Digite sua nota: 75\n",
            "Digite sua nota: 64\n",
            "Digite sua nota: 85\n",
            "Digite sua nota: 75\n",
            "Digite sua nota: 64\n",
            "Digite sua nota: 748\n",
            "Digite sua nota: 73\n",
            "Digite sua nota: 82\n",
            "Digite sua nota: 1\n",
            "Digite sua nota: 562\n",
            "A média aritmética das notas dos 30 alunos é 82.2\n"
          ]
        }
      ],
      "source": [
        "nota = 0 #variavel que representa nota\n",
        "soma_das_notas = 0 #variavel que representa soma das notas\n",
        "contador_rep = 0 #variavel que representa o contador para fazer a repetição\n",
        "media = 0 #variavel que ira receber o calculo aritmetico de uma media\n",
        "\n",
        "while contador_rep < 30: #Enquanto o contador for menor que 30 a repetição ira continuar\n",
        "\n",
        "  nota = float(input(\"Digite sua nota: 767\")) #Recebendo o input do cliente/aluno\n",
        "\n",
        "  soma_das_notas += nota #Nessa variavel toda nota sera somada e acumulada\n",
        "\n",
        "  contador_rep += 1 #adiciona 1 a cada repetição, representando um contador\n",
        "\n",
        "media = soma_das_notas / 30 #Calculo aritmetico para a media\n",
        "\n",
        "print(\"A média aritmética das notas dos 30 alunos é {}\".format(media)) #Saída do processo"
      ]
    }
  ]
}