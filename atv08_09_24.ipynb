{
  "nbformat": 4,
  "nbformat_minor": 0,
  "metadata": {
    "colab": {
      "provenance": [],
      "authorship_tag": "ABX9TyMXGmRqFsJ1rhE60h7KUtQo",
      "include_colab_link": true
    },
    "kernelspec": {
      "name": "python3",
      "display_name": "Python 3"
    },
    "language_info": {
      "name": "python"
    }
  },
  "cells": [
    {
      "cell_type": "markdown",
      "metadata": {
        "id": "view-in-github",
        "colab_type": "text"
      },
      "source": [
        "<a href=\"https://colab.research.google.com/github/VitorGomesder4/python-studies/blob/main/atv08_09_24.ipynb\" target=\"_parent\"><img src=\"https://colab.research.google.com/assets/colab-badge.svg\" alt=\"Open In Colab\"/></a>"
      ]
    },
    {
      "cell_type": "markdown",
      "source": [
        "**Verificar em uma sequência de três números digitados pelo usuário, qual é o maior, o do meio e o menor número!!!!**"
      ],
      "metadata": {
        "id": "NPxUY4Dnb6wc"
      }
    },
    {
      "cell_type": "markdown",
      "source": [
        "--------------------------------------------------------------------------------"
      ],
      "metadata": {
        "id": "EPYIzRtOb5eM"
      }
    },
    {
      "cell_type": "markdown",
      "source": [
        "**Metodo realizado originalmente**"
      ],
      "metadata": {
        "id": "tr8WH1UOZdef"
      }
    },
    {
      "cell_type": "code",
      "source": [
        "print(\"Diga 3 números e iremos informar o maior, menor, e o do meio.\")\n",
        "\n",
        "lista_numclient = []\n",
        "num_a = float(input(\"Digite um numero: \"))\n",
        "num_b = float(input(\"Digite um numero \"))\n",
        "num_c = float(input(\"Digite um numero \"))\n",
        "\n",
        "lista_numclient.extend([num_a, num_b, num_c])\n",
        "maiornum = max(lista_numclient)\n",
        "menornum = min(lista_numclient)\n",
        "somadetodos = num_a + num_b + num_c\n",
        "nummeio = somadetodos - maiornum - menornum\n",
        "\n",
        "if num_a == num_b and num_a == num_c:\n",
        "  print(\"Todos iguais.\")\n",
        "else:\n",
        "  print(\"Maior = {}, Meio = {}, Menor = {}\".format(maiornum, nummeio, menornum))"
      ],
      "metadata": {
        "colab": {
          "base_uri": "https://localhost:8080/"
        },
        "id": "aZ9Vt8_bZZ3Q",
        "outputId": "5b46b87d-30f1-4d12-94ec-438b2a838402"
      },
      "execution_count": null,
      "outputs": [
        {
          "output_type": "stream",
          "name": "stdout",
          "text": [
            "Diga 3 números e iremos informar o maior, menor, e o do meio.\n",
            "Digite um numero: 200\n",
            "Digite um numero 300\n",
            "Digite um numero 100\n",
            "Maior = 300.0, Meio = 200.0, Menor = 100.0\n"
          ]
        }
      ]
    },
    {
      "cell_type": "markdown",
      "source": [
        "--------------------------------------------------------------------------------"
      ],
      "metadata": {
        "id": "qS79-8M5bzoF"
      }
    },
    {
      "cell_type": "markdown",
      "source": [
        "**Metodo Otimizado por IA**"
      ],
      "metadata": {
        "id": "uDy53bYnZTUY"
      }
    },
    {
      "cell_type": "code",
      "execution_count": null,
      "metadata": {
        "colab": {
          "base_uri": "https://localhost:8080/"
        },
        "id": "rEKJOTTRZOBg",
        "outputId": "9086ab0a-4dd1-40d2-c73a-906421b88dff"
      },
      "outputs": [
        {
          "output_type": "stream",
          "name": "stdout",
          "text": [
            "Digite um número: 200\n",
            "Digite um número: 300\n",
            "Digite um número: 100\n",
            "O maior é 300.0, o menor é 100.0, e o do meio é 200.0\n"
          ]
        }
      ],
      "source": [
        "lista_numclient = [float(input(\"Digite um número: \")) for _ in range(3)]\n",
        "\n",
        "if lista_numclient[0] == lista_numclient[1] == lista_numclient[2]:\n",
        "    print(\"Todos iguais.\")\n",
        "else:\n",
        "    lista_ordenada = sorted(lista_numclient)\n",
        "    maiornum, nummeio, menornum = lista_ordenada[2], lista_ordenada[1], lista_ordenada[0]\n",
        "    print(\"O maior é {}, o menor é {}, e o do meio é {}\".format(maiornum, menornum, nummeio))"
      ]
    }
  ]
}